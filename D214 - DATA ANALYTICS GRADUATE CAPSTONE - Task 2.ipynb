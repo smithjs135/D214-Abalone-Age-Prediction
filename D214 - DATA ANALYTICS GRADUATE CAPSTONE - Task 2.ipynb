{
 "cells": [
  {
   "cell_type": "markdown",
   "metadata": {},
   "source": [
    "# DATA ANALYTICS GRADUATE CAPSTONE — D214 TASK 2  \n",
    "\n",
    "Jason Smith   \n",
    "Student ID: 293963   \n",
    "jsmi268@wgu.edu   \n",
    "WGU – MSDA    \n",
    "Program Mentor: Christiana Okhipo  \n",
    "Instructor: Daniel Smith  "
   ]
  },
  {
   "cell_type": "markdown",
   "metadata": {},
   "source": [
    "# Research Question\n",
    " \n",
    "A.  Summarize the original real-data research question you identified in task 1. Your summary should include justification for the research question you identified in task 1, a description of the context in which the research question exists, and a discussion of your hypothesis.\n",
    "\n",
    "This analysis will use the Abalone Dataset from Kaggle(Mendes, 2018).\n",
    "\n",
    "This analysis will attempt to answer the following question:\n",
    "*Can the age of an abalone be predicted based on an abalone’s 'Sex', 'Diameter', and 'Whole weight'? \n",
    "\n",
    "The age of an abalone is currently determined by shucking and cutting the shell then counting the number of growth rings contained in the shell.  Shucking the abalone shell kills the animal.  The purpose of this analysis is to accurately determine the age of an abalone without killing it. \n",
    "\n",
    "The working hypothesis is the variables 'Sex', 'Diameter' and 'Whole weight' statistically significantly affect the variable 'Age'.\n",
    "\n",
    "As an abalone gets older it grows additional growth rings which should reflect an increase in shell diameter and weight of the animal. \n",
    "\n"
   ]
  },
  {
   "cell_type": "markdown",
   "metadata": {},
   "source": [
    "## Data Collection\n",
    "\n",
    "This analysis will use the Abalone Dataset from Kaggle(Mendes, 2018). The advantages of using this data is that it is readily available and free to use.  Furthermore, this dataset contains 4,177 rows of data which should be sufficient to show trends in size and weight in relation to an abalone's age. \n",
    "\n",
    "There are a few disadvantages with the provided data. These disadvantages include it does not track weather, location, or the amount of food resources which could affect the abalone's size and weight.  I believe a Random Forest algorithm may be able to determine the true age.\n"
   ]
  },
  {
   "cell_type": "markdown",
   "metadata": {},
   "source": [
    "The values for diameter and whole weight were recorded in millimeters. These two features were scaled by dividing each value by 200(UCI). The scaled data values are used for this analysis. \n",
    "\n",
    "Rings are recorded is whole integer value.  The age is calculated by adding 1.5 to the ring value."
   ]
  },
  {
   "cell_type": "markdown",
   "metadata": {},
   "source": [
    "## Data Extraction and Preparation"
   ]
  },
  {
   "cell_type": "markdown",
   "metadata": {},
   "source": [
    "The required python libraries are imported. "
   ]
  },
  {
   "cell_type": "code",
   "execution_count": 3,
   "metadata": {},
   "outputs": [
    {
     "name": "stderr",
     "output_type": "stream",
     "text": [
      "C:\\Users\\smith\\Anaconda3\\lib\\site-packages\\scipy\\__init__.py:146: UserWarning: A NumPy version >=1.16.5 and <1.23.0 is required for this version of SciPy (detected version 1.23.1\n",
      "  warnings.warn(f\"A NumPy version >={np_minversion} and <{np_maxversion}\"\n"
     ]
    }
   ],
   "source": [
    "\n",
    "\n",
    "# import Libraries\n",
    "\n",
    "# Pandas -  supports ability to create dataframes and multi-dimensional arrays\n",
    "import pandas as pd\n",
    "\n",
    "# Numpy - Used to create error curves which helped to determine an ideal K-value. Used in section D2\n",
    "import numpy as np\n",
    "\n",
    "# Data visualization\n",
    "import seaborn as sns\n",
    "import matplotlib.pyplot as plt\n",
    "%matplotlib inline\n",
    "\n",
    "# Test train split\n",
    "from sklearn.model_selection import train_test_split\n",
    "\n",
    "# Random forest\n",
    "from sklearn.ensemble import RandomForestRegressor\n",
    "\n",
    "# Display preferences\n",
    "import warnings\n",
    "warnings.filterwarnings(\"ignore\", message=r\"Passing\", category=FutureWarning)"
   ]
  },
  {
   "cell_type": "markdown",
   "metadata": {},
   "source": [
    "The Abalone dataset was downloaded in CSV format from Kaggle then imported into a Panda dataframe using the Panda read_csv function."
   ]
  },
  {
   "cell_type": "code",
   "execution_count": 5,
   "metadata": {},
   "outputs": [],
   "source": [
    "# Import Data\n",
    "df = pd.read_csv('abalone.csv')"
   ]
  },
  {
   "cell_type": "code",
   "execution_count": 6,
   "metadata": {},
   "outputs": [],
   "source": [
    "# Create an original dataset for later reference\n",
    "df_orig = df"
   ]
  },
  {
   "cell_type": "markdown",
   "metadata": {},
   "source": [
    "The shape function was used to determine the number of rows and columns in the dataframe. Not all of the columns will be needed for this analysis, and these columns will be dropped soon. The original dataset has 4,177 rows and 9 columns. "
   ]
  },
  {
   "cell_type": "code",
   "execution_count": 7,
   "metadata": {},
   "outputs": [
    {
     "name": "stdout",
     "output_type": "stream",
     "text": [
      "The number of rows is: 4177, and the number of columns is: 9\n"
     ]
    }
   ],
   "source": [
    "# Determine the number of rows and columns\n",
    "rows= df.shape[0]\n",
    "cols= df.shape[1]\n",
    "print(f'The number of rows is: {rows}, and the number of columns is: {cols}')"
   ]
  },
  {
   "cell_type": "markdown",
   "metadata": {},
   "source": [
    "The columns that are no longer required for the analysis are filtered out of the dataframe."
   ]
  },
  {
   "cell_type": "code",
   "execution_count": 8,
   "metadata": {},
   "outputs": [],
   "source": [
    "# Remove unnecessary columns\n",
    "df = df[['Sex', 'Diameter', 'Whole weight', 'Rings']]"
   ]
  },
  {
   "cell_type": "markdown",
   "metadata": {},
   "source": [
    "The true age of the abalone is calculate by adding 1.5 to the 'Rings' value."
   ]
  },
  {
   "cell_type": "code",
   "execution_count": 9,
   "metadata": {},
   "outputs": [
    {
     "name": "stderr",
     "output_type": "stream",
     "text": [
      "<ipython-input-9-8cb1dbd2e995>:2: SettingWithCopyWarning: \n",
      "A value is trying to be set on a copy of a slice from a DataFrame.\n",
      "Try using .loc[row_indexer,col_indexer] = value instead\n",
      "\n",
      "See the caveats in the documentation: https://pandas.pydata.org/pandas-docs/stable/user_guide/indexing.html#returning-a-view-versus-a-copy\n",
      "  df['Age'] = df['Rings'] + 1.5\n"
     ]
    }
   ],
   "source": [
    "# Calculate age by adding 1.5 to the ring value\n",
    "df['Age'] = df['Rings'] + 1.5"
   ]
  },
  {
   "cell_type": "markdown",
   "metadata": {},
   "source": [
    "Now that we added the age to the dataframe, we can drop Rings because it is no longer required. The Sex column was also removed because the Random Forest alghorithm only accepts features that have numeric datatypes. "
   ]
  },
  {
   "cell_type": "code",
   "execution_count": 10,
   "metadata": {},
   "outputs": [],
   "source": [
    "# Remove Rings column\n",
    "df = df[['Diameter', 'Whole weight', 'Age']]"
   ]
  },
  {
   "cell_type": "markdown",
   "metadata": {},
   "source": [
    "Now that the other weight columns have been dropped, the column 'Whole weight' has been renamed to 'Weight' for ease of use. In addition, the head function was used to see the first 5 rows of the dataframe and to confirm only the required columns appear in the dataframe.\n"
   ]
  },
  {
   "cell_type": "code",
   "execution_count": 11,
   "metadata": {},
   "outputs": [
    {
     "name": "stdout",
     "output_type": "stream",
     "text": [
      "   Diameter  Weight   Age\n",
      "0     0.365  0.5140  16.5\n",
      "1     0.265  0.2255   8.5\n",
      "2     0.420  0.6770  10.5\n",
      "3     0.365  0.5160  11.5\n",
      "4     0.255  0.2050   8.5\n"
     ]
    }
   ],
   "source": [
    "# Rename whole weight column\n",
    "df.columns = ['Diameter', 'Weight', 'Age']\n",
    "\n",
    "# Print first 5 rows\n",
    "print(df.head())"
   ]
  },
  {
   "cell_type": "markdown",
   "metadata": {},
   "source": [
    "The Panda shape function is used to determine the number of rows and columns present in a dataframe. The number of rows remained the same while the number of columns dropped from nine to three. "
   ]
  },
  {
   "cell_type": "code",
   "execution_count": 9,
   "metadata": {},
   "outputs": [
    {
     "name": "stdout",
     "output_type": "stream",
     "text": [
      "The number of rows is: 4177, and the number of columns is: 3\n"
     ]
    }
   ],
   "source": [
    "# Recheck number of rows and columns\n",
    "rows= df.shape[0]\n",
    "cols= df.shape[1]\n",
    "print(f'The number of rows is: {rows}, and the number of columns is: {cols}')"
   ]
  },
  {
   "cell_type": "markdown",
   "metadata": {},
   "source": [
    "The Panda isnull function is used to check if any NULL values exist. No NULL values exist in the dataset. See below"
   ]
  },
  {
   "cell_type": "code",
   "execution_count": 10,
   "metadata": {},
   "outputs": [
    {
     "data": {
      "text/plain": [
       "Diameter    0\n",
       "Weight      0\n",
       "Age         0\n",
       "dtype: int64"
      ]
     },
     "execution_count": 10,
     "metadata": {},
     "output_type": "execute_result"
    }
   ],
   "source": [
    "# Check for null values\n",
    "df.isnull().sum()"
   ]
  },
  {
   "cell_type": "markdown",
   "metadata": {},
   "source": [
    "The duplicated function was used to check for duplicate values. This function was run against the original dataset. No duplicate rows were detected.  "
   ]
  },
  {
   "cell_type": "code",
   "execution_count": 11,
   "metadata": {},
   "outputs": [
    {
     "data": {
      "text/plain": [
       "0"
      ]
     },
     "execution_count": 11,
     "metadata": {},
     "output_type": "execute_result"
    }
   ],
   "source": [
    "# Check for duplicate values against the original dataset\n",
    "df_orig.duplicated().sum()"
   ]
  },
  {
   "cell_type": "markdown",
   "metadata": {},
   "source": [
    "As mentioned, the Random Forest alghorithm only accepts numeric features as input.  The dtypes function was used to verify the dataypes are correct.  "
   ]
  },
  {
   "cell_type": "code",
   "execution_count": 12,
   "metadata": {
    "scrolled": false
   },
   "outputs": [
    {
     "data": {
      "text/plain": [
       "Diameter    float64\n",
       "Weight      float64\n",
       "Age         float64\n",
       "dtype: object"
      ]
     },
     "execution_count": 12,
     "metadata": {},
     "output_type": "execute_result"
    }
   ],
   "source": [
    "# Check datatypes\n",
    "df.dtypes\n",
    "    "
   ]
  },
  {
   "cell_type": "markdown",
   "metadata": {},
   "source": [
    "## Analysis\n",
    "\n",
    "The initial goal of this analysis is to determine whether the 'Sex', 'Diameter', and 'Weight' can be used to determine the age of an abolone.  A Random Forest Regression will be used to help answer this question.  However, this algorithm only accepts numeric features as input variables.  For this reason, the feature 'Sex' was dropped. The features d'Diameter' and 'Weight' will be used to predict an age of an abalone. \n",
    "\n",
    "Prior to performing the regression, the data will be explored through further analysis and visualizations. "
   ]
  },
  {
   "cell_type": "markdown",
   "metadata": {},
   "source": [
    "The Pandas describe function was used to output basic statistics including count, mean, std, max, etc..."
   ]
  },
  {
   "cell_type": "code",
   "execution_count": 13,
   "metadata": {},
   "outputs": [
    {
     "data": {
      "text/html": [
       "<div>\n",
       "<style scoped>\n",
       "    .dataframe tbody tr th:only-of-type {\n",
       "        vertical-align: middle;\n",
       "    }\n",
       "\n",
       "    .dataframe tbody tr th {\n",
       "        vertical-align: top;\n",
       "    }\n",
       "\n",
       "    .dataframe thead th {\n",
       "        text-align: right;\n",
       "    }\n",
       "</style>\n",
       "<table border=\"1\" class=\"dataframe\">\n",
       "  <thead>\n",
       "    <tr style=\"text-align: right;\">\n",
       "      <th></th>\n",
       "      <th>Diameter</th>\n",
       "      <th>Weight</th>\n",
       "      <th>Age</th>\n",
       "    </tr>\n",
       "  </thead>\n",
       "  <tbody>\n",
       "    <tr>\n",
       "      <th>count</th>\n",
       "      <td>4177.000000</td>\n",
       "      <td>4177.000000</td>\n",
       "      <td>4177.000000</td>\n",
       "    </tr>\n",
       "    <tr>\n",
       "      <th>mean</th>\n",
       "      <td>0.407881</td>\n",
       "      <td>0.828742</td>\n",
       "      <td>11.433684</td>\n",
       "    </tr>\n",
       "    <tr>\n",
       "      <th>std</th>\n",
       "      <td>0.099240</td>\n",
       "      <td>0.490389</td>\n",
       "      <td>3.224169</td>\n",
       "    </tr>\n",
       "    <tr>\n",
       "      <th>min</th>\n",
       "      <td>0.055000</td>\n",
       "      <td>0.002000</td>\n",
       "      <td>2.500000</td>\n",
       "    </tr>\n",
       "    <tr>\n",
       "      <th>25%</th>\n",
       "      <td>0.350000</td>\n",
       "      <td>0.441500</td>\n",
       "      <td>9.500000</td>\n",
       "    </tr>\n",
       "    <tr>\n",
       "      <th>50%</th>\n",
       "      <td>0.425000</td>\n",
       "      <td>0.799500</td>\n",
       "      <td>10.500000</td>\n",
       "    </tr>\n",
       "    <tr>\n",
       "      <th>75%</th>\n",
       "      <td>0.480000</td>\n",
       "      <td>1.153000</td>\n",
       "      <td>12.500000</td>\n",
       "    </tr>\n",
       "    <tr>\n",
       "      <th>max</th>\n",
       "      <td>0.650000</td>\n",
       "      <td>2.825500</td>\n",
       "      <td>30.500000</td>\n",
       "    </tr>\n",
       "  </tbody>\n",
       "</table>\n",
       "</div>"
      ],
      "text/plain": [
       "          Diameter       Weight          Age\n",
       "count  4177.000000  4177.000000  4177.000000\n",
       "mean      0.407881     0.828742    11.433684\n",
       "std       0.099240     0.490389     3.224169\n",
       "min       0.055000     0.002000     2.500000\n",
       "25%       0.350000     0.441500     9.500000\n",
       "50%       0.425000     0.799500    10.500000\n",
       "75%       0.480000     1.153000    12.500000\n",
       "max       0.650000     2.825500    30.500000"
      ]
     },
     "execution_count": 13,
     "metadata": {},
     "output_type": "execute_result"
    }
   ],
   "source": [
    "# Basic statistics on numberic attributes\n",
    "stats = df.describe()\n",
    "stats\n"
   ]
  },
  {
   "cell_type": "code",
   "execution_count": 2,
   "metadata": {},
   "outputs": [
    {
     "ename": "NameError",
     "evalue": "name 'df' is not defined",
     "output_type": "error",
     "traceback": [
      "\u001b[1;31m---------------------------------------------------------------------------\u001b[0m",
      "\u001b[1;31mNameError\u001b[0m                                 Traceback (most recent call last)",
      "\u001b[1;32m<ipython-input-2-5cc0934cc03c>\u001b[0m in \u001b[0;36m<module>\u001b[1;34m\u001b[0m\n\u001b[1;32m----> 1\u001b[1;33m \u001b[0mdf\u001b[0m\u001b[1;33m.\u001b[0m\u001b[0mdtypes\u001b[0m\u001b[1;33m\u001b[0m\u001b[1;33m\u001b[0m\u001b[0m\n\u001b[0m",
      "\u001b[1;31mNameError\u001b[0m: name 'df' is not defined"
     ]
    }
   ],
   "source": [
    "df.dtypes"
   ]
  },
  {
   "cell_type": "code",
   "execution_count": 24,
   "metadata": {},
   "outputs": [],
   "source": [
    "# Determine mean and std values\n",
    "\n",
    "#weight\n",
    "meanw =stats.iloc[1, 1]\n",
    "stdw = stats.iloc[2, 1]\n",
    "\n",
    "# Diameter\n",
    "meand = stats.iloc[1, 0]\n",
    "stdd = stats.iloc[2, 0]\n",
    "\n",
    "# Age\n",
    "meana = stats.iloc[1, 2]\n",
    "stda = stats.iloc[2, 2]"
   ]
  },
  {
   "cell_type": "markdown",
   "metadata": {},
   "source": [
    "The hist function was used to create histogramThe distribution of the three numeric features is somewhat normally distributed. Diameter has a slight skew to the left whil weight and age are slightly skewed to the right. Normally distributed data typically performs better in regression analysis. "
   ]
  },
  {
   "cell_type": "code",
   "execution_count": 14,
   "metadata": {},
   "outputs": [
    {
     "data": {
      "image/png": "[encoded data removed]",
      "text/plain": [
       "<Figure size 432x288 with 4 Axes>"
      ]
     },
     "metadata": {},
     "output_type": "display_data"
    }
   ],
   "source": [
    "# histograms of continuous variables\n",
    "plt.style.use('ggplot')\n",
    "df.hist()\n",
    "#save figure to file\n",
    "# plt.savefig('univ_hist.jpg')\n",
    "# plt.tight_layout()\n",
    "plt.show()"
   ]
  },
  {
   "cell_type": "markdown",
   "metadata": {},
   "source": [
    "The following box plot also echoes the non-normal distribution of the histograms.  All three attributes contain outliers.  Diameter at the lower scale range, Weight at the upper range and Age at both upper and lower. "
   ]
  },
  {
   "cell_type": "code",
   "execution_count": 15,
   "metadata": {},
   "outputs": [
    {
     "data": {
      "image/png": "[encoded data removed]",
      "text/plain": [
       "<Figure size 432x288 with 4 Axes>"
      ]
     },
     "metadata": {},
     "output_type": "display_data"
    }
   ],
   "source": [
    "#  Create box plots\n",
    "df[['Diameter', 'Weight', 'Age']].plot(kind='box', subplots=True, layout=(1,4), sharex=False,sharey=False)\n",
    "plt.savefig('univ_box.jpg')\n",
    "plt.tight_layout()\n"
   ]
  },
  {
   "cell_type": "raw",
   "metadata": {},
   "source": [
    "# Scatter plot\n",
    "\n",
    "plt.rcParams.update({'figure.figsize':(10,8), 'figure.dpi':100})\n",
    "\n",
    "plt.title(\"Diameter vs. Age\")\n",
    "plt.xlabel(\"Diameter\") \n",
    "plt.ylabel(\"Age\") \n",
    "\n",
    "\n",
    "x = df['Diameter']\n",
    "y = df['Age']\n",
    "\n",
    "#plt.scatter(x, y)\n",
    "plt.scatter(x, y, c=y, cmap='Spectral')\n",
    "plt.colorbar()\n",
    "\n"
   ]
  },
  {
   "cell_type": "raw",
   "metadata": {},
   "source": [
    "\n",
    "plt.rcParams.update({'figure.figsize':(10,8), 'figure.dpi':100})\n",
    "\n",
    "plt.title(\"Weight vs. Age\")\n",
    "plt.xlabel(\"Weight\") \n",
    "plt.ylabel(\"Age\") \n",
    "\n",
    "\n",
    "x = df['Weight']\n",
    "y = df['Age']\n",
    "\n",
    "#plt.scatter(x, y)\n",
    "plt.scatter(x, y, c=y, cmap='Spectral')\n",
    "plt.colorbar()"
   ]
  },
  {
   "cell_type": "markdown",
   "metadata": {},
   "source": [
    "A correlation table and a correlation matrix are displayed below.  Both the table and matrix display how closely correlated two features are to one another.  \n",
    "Closely related features will have a table value close to 1.0 and a matrix color that registers high on the spectrum (beige or brown).\n",
    " You can see the table value for Diameter and Weight is 0.925 and the matrix color is brown. These two variables are highly correlated. \n",
    "\n",
    "Conversely, there is not a strong correlation between Diameter and Age nor with Weight and Age.  Their relative correlation values are 0.57 and 0.543, and the matrix color is black which indicates a low correlation.  \n",
    "\n",
    "The desire is to have a high level of correlation between one or more feature and the explanatory variable. Unfortunately, the abalone data has a correlation of 0.57 between Diameter & Age and a correlation of 0.54 between weight & Age. Both of which register in the black for the correlation matrix. "
   ]
  },
  {
   "cell_type": "code",
   "execution_count": 16,
   "metadata": {},
   "outputs": [
    {
     "data": {
      "text/html": [
       "<div>\n",
       "<style scoped>\n",
       "    .dataframe tbody tr th:only-of-type {\n",
       "        vertical-align: middle;\n",
       "    }\n",
       "\n",
       "    .dataframe tbody tr th {\n",
       "        vertical-align: top;\n",
       "    }\n",
       "\n",
       "    .dataframe thead th {\n",
       "        text-align: right;\n",
       "    }\n",
       "</style>\n",
       "<table border=\"1\" class=\"dataframe\">\n",
       "  <thead>\n",
       "    <tr style=\"text-align: right;\">\n",
       "      <th></th>\n",
       "      <th>Diameter</th>\n",
       "      <th>Weight</th>\n",
       "      <th>Age</th>\n",
       "    </tr>\n",
       "  </thead>\n",
       "  <tbody>\n",
       "    <tr>\n",
       "      <th>Diameter</th>\n",
       "      <td>1.000000</td>\n",
       "      <td>0.925452</td>\n",
       "      <td>0.57466</td>\n",
       "    </tr>\n",
       "    <tr>\n",
       "      <th>Weight</th>\n",
       "      <td>0.925452</td>\n",
       "      <td>1.000000</td>\n",
       "      <td>0.54039</td>\n",
       "    </tr>\n",
       "    <tr>\n",
       "      <th>Age</th>\n",
       "      <td>0.574660</td>\n",
       "      <td>0.540390</td>\n",
       "      <td>1.00000</td>\n",
       "    </tr>\n",
       "  </tbody>\n",
       "</table>\n",
       "</div>"
      ],
      "text/plain": [
       "          Diameter    Weight      Age\n",
       "Diameter  1.000000  0.925452  0.57466\n",
       "Weight    0.925452  1.000000  0.54039\n",
       "Age       0.574660  0.540390  1.00000"
      ]
     },
     "execution_count": 16,
     "metadata": {},
     "output_type": "execute_result"
    }
   ],
   "source": [
    "# Create a correlation table\n",
    "corrmat2 =df.corr()\n",
    "corrmat2"
   ]
  },
  {
   "cell_type": "code",
   "execution_count": 17,
   "metadata": {},
   "outputs": [
    {
     "data": {
      "text/plain": [
       "Text(0.5, 1.0, 'Correlation Matrix')"
      ]
     },
     "execution_count": 17,
     "metadata": {},
     "output_type": "execute_result"
    },
    {
     "data": {
      "image/png": "[encoded data removed]",
      "text/plain": [
       "<Figure size 1440x1080 with 2 Axes>"
      ]
     },
     "metadata": {},
     "output_type": "display_data"
    }
   ],
   "source": [
    "# Create a correlation matrix\n",
    "\n",
    "plt.subplots(figsize=(20,15))\n",
    "sns.heatmap(corrmat2)\n",
    "# Variablesplt.subplots(figsize=(20,15))\n",
    "#sns.heatmap(corrmat2, vmax=1., square=False).xaxis.tick_bottom()  \n",
    "#plt.xticks(rotation=90)\n",
    "plt.title('Correlation Matrix')"
   ]
  },
  {
   "cell_type": "markdown",
   "metadata": {},
   "source": [
    "The data will be split into 70% train and 30% test datasets using the sklearn.model_selection train_test_split function.  Then the Random Forest class will then be trained against the train data and tested against the test data. "
   ]
  },
  {
   "cell_type": "code",
   "execution_count": 18,
   "metadata": {},
   "outputs": [],
   "source": [
    "# Create arrays for for the dependent variable ('y') and features('X')\n",
    "X = df.drop('Age', axis = 1) \n",
    "y = df['Age']\n",
    "\n",
    "# Split data into train and test\n",
    "X_train, X_test, y_train, y_test = train_test_split(X, y, test_size=0.3, random_state=0)"
   ]
  },
  {
   "cell_type": "code",
   "execution_count": 19,
   "metadata": {},
   "outputs": [
    {
     "name": "stdout",
     "output_type": "stream",
     "text": [
      "Shape of X_train: (2923, 2)\n",
      "Shape of y_train: (2923,)\n",
      "Shape of X_test: (1254, 2)\n",
      "Shape of y_test: (1254,)\n"
     ]
    }
   ],
   "source": [
    "# Check the number of rows and columns\n",
    "print('Shape of X_train:', X_train.shape)\n",
    "print('Shape of y_train:', y_train.shape)\n",
    "print('Shape of X_test:', X_test.shape)\n",
    "print('Shape of y_test:', y_test.shape)"
   ]
  },
  {
   "cell_type": "raw",
   "metadata": {},
   "source": [
    "The Random Forest will be trained with 1,000 decision trees. Generally, the larger the number of trees the better the results. After some threshold, the increase in the number of trees does not yield better results."
   ]
  },
  {
   "cell_type": "markdown",
   "metadata": {},
   "source": [
    "Random Forest Regressor function was chosed over the Random Forest Classification because the explanatory variable is numeric.  This regression function will be trained against the training data then the model will tested against the testing data. "
   ]
  },
  {
   "cell_type": "code",
   "execution_count": 20,
   "metadata": {},
   "outputs": [
    {
     "data": {
      "text/html": [
       "<style>#sk-container-id-1 {color: black;background-color: white;}#sk-container-id-1 pre{padding: 0;}#sk-container-id-1 div.sk-toggleable {background-color: white;}#sk-container-id-1 label.sk-toggleable__label {cursor: pointer;display: block;width: 100%;margin-bottom: 0;padding: 0.3em;box-sizing: border-box;text-align: center;}#sk-container-id-1 label.sk-toggleable__label-arrow:before {content: \"▸\";float: left;margin-right: 0.25em;color: #696969;}#sk-container-id-1 label.sk-toggleable__label-arrow:hover:before {color: black;}#sk-container-id-1 div.sk-estimator:hover label.sk-toggleable__label-arrow:before {color: black;}#sk-container-id-1 div.sk-toggleable__content {max-height: 0;max-width: 0;overflow: hidden;text-align: left;background-color: #f0f8ff;}#sk-container-id-1 div.sk-toggleable__content pre {margin: 0.2em;color: black;border-radius: 0.25em;background-color: #f0f8ff;}#sk-container-id-1 input.sk-toggleable__control:checked~div.sk-toggleable__content {max-height: 200px;max-width: 100%;overflow: auto;}#sk-container-id-1 input.sk-toggleable__control:checked~label.sk-toggleable__label-arrow:before {content: \"▾\";}#sk-container-id-1 div.sk-estimator input.sk-toggleable__control:checked~label.sk-toggleable__label {background-color: #d4ebff;}#sk-container-id-1 div.sk-label input.sk-toggleable__control:checked~label.sk-toggleable__label {background-color: #d4ebff;}#sk-container-id-1 input.sk-hidden--visually {border: 0;clip: rect(1px 1px 1px 1px);clip: rect(1px, 1px, 1px, 1px);height: 1px;margin: -1px;overflow: hidden;padding: 0;position: absolute;width: 1px;}#sk-container-id-1 div.sk-estimator {font-family: monospace;background-color: #f0f8ff;border: 1px dotted black;border-radius: 0.25em;box-sizing: border-box;margin-bottom: 0.5em;}#sk-container-id-1 div.sk-estimator:hover {background-color: #d4ebff;}#sk-container-id-1 div.sk-parallel-item::after {content: \"\";width: 100%;border-bottom: 1px solid gray;flex-grow: 1;}#sk-container-id-1 div.sk-label:hover label.sk-toggleable__label {background-color: #d4ebff;}#sk-container-id-1 div.sk-serial::before {content: \"\";position: absolute;border-left: 1px solid gray;box-sizing: border-box;top: 0;bottom: 0;left: 50%;z-index: 0;}#sk-container-id-1 div.sk-serial {display: flex;flex-direction: column;align-items: center;background-color: white;padding-right: 0.2em;padding-left: 0.2em;position: relative;}#sk-container-id-1 div.sk-item {position: relative;z-index: 1;}#sk-container-id-1 div.sk-parallel {display: flex;align-items: stretch;justify-content: center;background-color: white;position: relative;}#sk-container-id-1 div.sk-item::before, #sk-container-id-1 div.sk-parallel-item::before {content: \"\";position: absolute;border-left: 1px solid gray;box-sizing: border-box;top: 0;bottom: 0;left: 50%;z-index: -1;}#sk-container-id-1 div.sk-parallel-item {display: flex;flex-direction: column;z-index: 1;position: relative;background-color: white;}#sk-container-id-1 div.sk-parallel-item:first-child::after {align-self: flex-end;width: 50%;}#sk-container-id-1 div.sk-parallel-item:last-child::after {align-self: flex-start;width: 50%;}#sk-container-id-1 div.sk-parallel-item:only-child::after {width: 0;}#sk-container-id-1 div.sk-dashed-wrapped {border: 1px dashed gray;margin: 0 0.4em 0.5em 0.4em;box-sizing: border-box;padding-bottom: 0.4em;background-color: white;}#sk-container-id-1 div.sk-label label {font-family: monospace;font-weight: bold;display: inline-block;line-height: 1.2em;}#sk-container-id-1 div.sk-label-container {text-align: center;}#sk-container-id-1 div.sk-container {/* jupyter's `normalize.less` sets `[hidden] { display: none; }` but bootstrap.min.css set `[hidden] { display: none !important; }` so we also need the `!important` here to be able to override the default hidden behavior on the sphinx rendered scikit-learn.org. See: https://github.com/scikit-learn/scikit-learn/issues/21755 */display: inline-block !important;position: relative;}#sk-container-id-1 div.sk-text-repr-fallback {display: none;}</style><div id=\"sk-container-id-1\" class=\"sk-top-container\"><div class=\"sk-text-repr-fallback\"><pre>RandomForestRegressor(n_estimators=1000, random_state=42)</pre><b>In a Jupyter environment, please rerun this cell to show the HTML representation or trust the notebook. <br />On GitHub, the HTML representation is unable to render, please try loading this page with nbviewer.org.</b></div><div class=\"sk-container\" hidden><div class=\"sk-item\"><div class=\"sk-estimator sk-toggleable\"><input class=\"sk-toggleable__control sk-hidden--visually\" id=\"sk-estimator-id-1\" type=\"checkbox\" checked><label for=\"sk-estimator-id-1\" class=\"sk-toggleable__label sk-toggleable__label-arrow\">RandomForestRegressor</label><div class=\"sk-toggleable__content\"><pre>RandomForestRegressor(n_estimators=1000, random_state=42)</pre></div></div></div></div></div>"
      ],
      "text/plain": [
       "RandomForestRegressor(n_estimators=1000, random_state=42)"
      ]
     },
     "execution_count": 20,
     "metadata": {},
     "output_type": "execute_result"
    }
   ],
   "source": [
    "# from sklearn.ensemble import RandomForestRegressor\n",
    "\n",
    "# Train the Random Forest tree\n",
    "regressor = RandomForestRegressor(n_estimators = 1000, random_state = 42)\n",
    "regressor.fit(X_train, y_train)"
   ]
  },
  {
   "cell_type": "markdown",
   "metadata": {},
   "source": [
    "A new dataframe will be created for the purpose of storing and comparing actual data versus predicted. "
   ]
  },
  {
   "cell_type": "code",
   "execution_count": 21,
   "metadata": {},
   "outputs": [
    {
     "data": {
      "text/html": [
       "<div>\n",
       "<style scoped>\n",
       "    .dataframe tbody tr th:only-of-type {\n",
       "        vertical-align: middle;\n",
       "    }\n",
       "\n",
       "    .dataframe tbody tr th {\n",
       "        vertical-align: top;\n",
       "    }\n",
       "\n",
       "    .dataframe thead th {\n",
       "        text-align: right;\n",
       "    }\n",
       "</style>\n",
       "<table border=\"1\" class=\"dataframe\">\n",
       "  <thead>\n",
       "    <tr style=\"text-align: right;\">\n",
       "      <th></th>\n",
       "      <th>Actual</th>\n",
       "      <th>Predicted</th>\n",
       "    </tr>\n",
       "  </thead>\n",
       "  <tbody>\n",
       "    <tr>\n",
       "      <th>668</th>\n",
       "      <td>14.5</td>\n",
       "      <td>10.587017</td>\n",
       "    </tr>\n",
       "    <tr>\n",
       "      <th>1580</th>\n",
       "      <td>9.5</td>\n",
       "      <td>10.086833</td>\n",
       "    </tr>\n",
       "    <tr>\n",
       "      <th>3784</th>\n",
       "      <td>12.5</td>\n",
       "      <td>11.660143</td>\n",
       "    </tr>\n",
       "    <tr>\n",
       "      <th>463</th>\n",
       "      <td>6.5</td>\n",
       "      <td>5.970714</td>\n",
       "    </tr>\n",
       "    <tr>\n",
       "      <th>2615</th>\n",
       "      <td>13.5</td>\n",
       "      <td>13.800000</td>\n",
       "    </tr>\n",
       "    <tr>\n",
       "      <th>...</th>\n",
       "      <td>...</td>\n",
       "      <td>...</td>\n",
       "    </tr>\n",
       "    <tr>\n",
       "      <th>1052</th>\n",
       "      <td>13.5</td>\n",
       "      <td>13.221000</td>\n",
       "    </tr>\n",
       "    <tr>\n",
       "      <th>3439</th>\n",
       "      <td>9.5</td>\n",
       "      <td>8.899367</td>\n",
       "    </tr>\n",
       "    <tr>\n",
       "      <th>1174</th>\n",
       "      <td>10.5</td>\n",
       "      <td>10.897000</td>\n",
       "    </tr>\n",
       "    <tr>\n",
       "      <th>2210</th>\n",
       "      <td>19.5</td>\n",
       "      <td>13.558000</td>\n",
       "    </tr>\n",
       "    <tr>\n",
       "      <th>2408</th>\n",
       "      <td>16.5</td>\n",
       "      <td>11.357875</td>\n",
       "    </tr>\n",
       "  </tbody>\n",
       "</table>\n",
       "<p>1254 rows × 2 columns</p>\n",
       "</div>"
      ],
      "text/plain": [
       "      Actual  Predicted\n",
       "668     14.5  10.587017\n",
       "1580     9.5  10.086833\n",
       "3784    12.5  11.660143\n",
       "463      6.5   5.970714\n",
       "2615    13.5  13.800000\n",
       "...      ...        ...\n",
       "1052    13.5  13.221000\n",
       "3439     9.5   8.899367\n",
       "1174    10.5  10.897000\n",
       "2210    19.5  13.558000\n",
       "2408    16.5  11.357875\n",
       "\n",
       "[1254 rows x 2 columns]"
      ]
     },
     "execution_count": 21,
     "metadata": {},
     "output_type": "execute_result"
    }
   ],
   "source": [
    "# Predict the price\n",
    "y_pred = regressor.predict(X_test)\n",
    "\n",
    "# Create dataframe of actual vs. predicted\n",
    "rfdf = pd.DataFrame({'Actual':y_test, 'Predicted': y_pred})\n",
    "rfdf"
   ]
  },
  {
   "cell_type": "markdown",
   "metadata": {},
   "source": [
    "Check the difference between the actuas and predicted values. The means-squared error will be compared to the mean.  As you see below the mean-squared error is less than 30% of the mean. We can see some predictive ability in this modelwith lots of room for improvement"
   ]
  },
  {
   "cell_type": "code",
   "execution_count": 22,
   "metadata": {},
   "outputs": [
    {
     "name": "stdout",
     "output_type": "stream",
     "text": [
      "Mean Absolute Error: 2.108957469632529\n",
      "Mean Squared Error: 8.31225407247274\n",
      "Root Mean Squared Error: 2.8830979991101136\n"
     ]
    }
   ],
   "source": [
    "from sklearn import metrics\n",
    "print('Mean Absolute Error:', metrics.mean_absolute_error(y_test, y_pred))\n",
    "print('Mean Squared Error:', metrics.mean_squared_error(y_test, y_pred))\n",
    "print('Root Mean Squared Error:', np.sqrt(metrics.mean_squared_error(y_test, y_pred)))"
   ]
  },
  {
   "cell_type": "markdown",
   "metadata": {},
   "source": [
    "The mean-squared error can be compared against the mean to determine the standard error"
   ]
  },
  {
   "cell_type": "code",
   "execution_count": 25,
   "metadata": {},
   "outputs": [
    {
     "name": "stdout",
     "output_type": "stream",
     "text": [
      "Mean age:  11.43\n",
      "Mean-squared error:  8.31\n",
      "The standard error is 27.3 % of the mean value\n"
     ]
    }
   ],
   "source": [
    "mse =  metrics.mean_squared_error(y_test, y_pred)\n",
    "print(\"Mean age: \", round(meana, 2))\n",
    "\n",
    "print(\"Mean-squared error: \", round(mse, 2))\n",
    "\n",
    "# How does the mean squared error relate to the mean\n",
    "print('The standard error is', round(abs((meana -mse)/meana) * 100, 2),'% of the mean value')\n"
   ]
  },
  {
   "cell_type": "markdown",
   "metadata": {},
   "source": [
    "Accuracy will be calculated using the following formula\n",
    "Accuracy = 100% - Error Rate \n",
    "Error Rate  = |Observed Value - Actual Value|/Actual Value × 100 "
   ]
  },
  {
   "cell_type": "code",
   "execution_count": 26,
   "metadata": {},
   "outputs": [
    {
     "name": "stdout",
     "output_type": "stream",
     "text": [
      "Accuracy:  81.87 %\n"
     ]
    }
   ],
   "source": [
    "#  Calculate the error rate\n",
    "error_rate = abs(y_pred -y_test)\n",
    "\n",
    "# Mean absolute error \n",
    "mabs= 100 * (error_rate / y_test)\n",
    "\n",
    "# Accuract\n",
    "accuracy = round(100 - np.mean(mabs), 2)\n",
    "\n",
    "print(\"Accuracy: \", accuracy,'%')"
   ]
  },
  {
   "cell_type": "markdown",
   "metadata": {},
   "source": [
    "The over all accuracy is approximately 82%.  This model does show some ability to predict the age of an abalone but is less than desired. "
   ]
  },
  {
   "cell_type": "code",
   "execution_count": 27,
   "metadata": {},
   "outputs": [
    {
     "name": "stderr",
     "output_type": "stream",
     "text": [
      "C:\\Users\\smith\\Anaconda3\\lib\\site-packages\\seaborn\\distributions.py:2551: FutureWarning: `distplot` is a deprecated function and will be removed in a future version. Please adapt your code to use either `displot` (a figure-level function with similar flexibility) or `kdeplot` (an axes-level function for kernel density plots).\n",
      "  warnings.warn(msg, FutureWarning)\n",
      "C:\\Users\\smith\\Anaconda3\\lib\\site-packages\\seaborn\\distributions.py:2551: FutureWarning: `distplot` is a deprecated function and will be removed in a future version. Please adapt your code to use either `displot` (a figure-level function with similar flexibility) or `kdeplot` (an axes-level function for kernel density plots).\n",
      "  warnings.warn(msg, FutureWarning)\n"
     ]
    },
    {
     "data": {
      "text/plain": [
       "<AxesSubplot:xlabel='Age', ylabel='Density'>"
      ]
     },
     "execution_count": 27,
     "metadata": {},
     "output_type": "execute_result"
    },
    {
     "data": {
      "image/png": "[encoded data removed]",
      "text/plain": [
       "<Figure size 432x288 with 1 Axes>"
      ]
     },
     "metadata": {},
     "output_type": "display_data"
    }
   ],
   "source": [
    "# Mute copy warnings\n",
    "import warnings\n",
    "from pandas.core.common import SettingWithCopyWarning\n",
    "warnings.simplefilter(action=\"ignore\", category=SettingWithCopyWarning)\n",
    "\n",
    "# Plotting actual vs predicted\n",
    "ax = sns.distplot(y, hist=False, color=\"r\", label=\"Actual Value\")\n",
    "sns.distplot(y_pred, hist=False, color=\"b\", label=\"Fitted Values\" , ax=ax)"
   ]
  },
  {
   "cell_type": "markdown",
   "metadata": {},
   "source": [
    "## Data summay and implications\n",
    "\n",
    "The goal for this analysis is to develop a Random Forest Regression model that has a strong ability to predict the age of an abalone based on its diameter and weight. The dataset was acquired from Kaggle and origionally contains 9 columns and 4,177 rows of data.  Sklearn.model_selection was used to split the data into train and test.  The Sklearn.ensemble package was used to run the Random Forest Regression algorhithm. This model displayed an accuracy of 81.87%.  This value of accuracy demonstrates some ability to predict the age of an abalone but not to the desired level.  \n",
    "\n",
    "The accuracy can likely be improved incramentaly several ways. The features Diameter and Weight both had weak correlations to Age.  Running a correlation matrix against the entire dataset may help locate other features with strong correlation values to Age.  \n",
    "Hyper parameters tuning may improve accuracy as well.  These parameters include \"n_estimators\" and max_depth(Datascience Learner). \n",
    "Working with the stakehoders to increase the number of rows of data and including additional data points such as location and amount of food source may also help achieve better insight and accuracy. This is the least desirable of the options because it may only come with added costs and delay to this project.  "
   ]
  },
  {
   "cell_type": "markdown",
   "metadata": {},
   "source": [
    "### Sources\n",
    "\n",
    "## I. Third-Party Code Sources\n",
    "1. RODOLFO MENDES (2018). Abalone Dataset\n",
    "https://www.kaggle.com/datasets/rodolfomendes/abalone-dataset\n",
    "(MENDES, 2018)\n",
    "2. Rodolfo Mendes(2018). Abalone Dataset.\n",
    "https://www.kaggle.com/datasets/rodolfomendes/abalone-dataset\n",
    "\n",
    "3. Sofia Kapsiani & Brendan J. Howlin(Jul, 2021). Random forest classification for predicting lifespan-extending chemical compounds\n",
    "https://www.nature.com/articles/s41598-021-93070-6\n",
    "\n",
    "4. Cuemath. Accuracy Formula\n",
    "https://www.cuemath.com/accuracy-formula/\n",
    "\n",
    "\n",
    "## J. In-Line Sources\n",
    "1. UCI. Abalone Data Set.\n",
    "https://archive.ics.uci.edu/ml/datasets/abalone\n",
    "\n",
    "2. Aditya Kumar (Jun, 2020).  Random Forest for prediction\n",
    "https://towardsdatascience.com/random-forest-ca80e56224c1\n",
    "(Kumar, 2020)\n",
    "\n",
    "3. Data Science Learner. How to Improve Accuracy of Random Forest ? Tune Classifier In 7 Steps\n",
    "https://www.datasciencelearner.com/how-to-improve-accuracy-of-random-forest-classifier/\n",
    "(Datascience Learner)\n"
   ]
  },
  {
   "cell_type": "code",
   "execution_count": null,
   "metadata": {},
   "outputs": [],
   "source": []
  }
 ],
 "metadata": {
  "kernelspec": {
   "display_name": "Python 3",
   "language": "python",
   "name": "python3"
  },
  "language_info": {
   "codemirror_mode": {
    "name": "ipython",
    "version": 3
   },
   "file_extension": ".py",
   "mimetype": "text/x-python",
   "name": "python",
   "nbconvert_exporter": "python",
   "pygments_lexer": "ipython3",
   "version": "3.8.5"
  }
 },
 "nbformat": 4,
 "nbformat_minor": 4
}
